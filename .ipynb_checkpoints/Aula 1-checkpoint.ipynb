{
 "cells": [
  {
   "cell_type": "code",
   "execution_count": null,
   "id": "57d60f7b-d9f7-4b99-b48b-be466a4fbd8c",
   "metadata": {},
   "outputs": [],
   "source": []
  }
 ],
 "metadata": {
  "kernelspec": {
   "display_name": "Python 3.11.4 64-bit",
   "language": "python",
   "name": "python3"
  },
  "language_info": {
   "codemirror_mode": {
    "name": "ipython",
    "version": 3
   },
   "file_extension": ".py",
   "mimetype": "text/x-python",
   "name": "python",
   "nbconvert_exporter": "python",
   "pygments_lexer": "ipython3",
   "version": "3.11.4"
  },
  "vscode": {
   "interpreter": {
    "hash": "ec209ac929dcb624c7f6ee351ef0b875c32411e307f0e21a721e661affe60714"
   }
  }
 },
 "nbformat": 4,
 "nbformat_minor": 5
}
