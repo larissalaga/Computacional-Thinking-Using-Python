{
 "cells": [
  {
   "cell_type": "code",
   "execution_count": 11,
   "id": "57d60f7b-d9f7-4b99-b48b-be466a4fbd8c",
   "metadata": {},
   "outputs": [
    {
     "name": "stdout",
     "output_type": "stream",
     "text": [
      "Olá,  5.0\n"
     ]
    }
   ],
   "source": [
    "#seu_nome = input(\"Digite o seu nome: \")\n",
    "#print(seu_nome)\n",
    "\n",
    "#nome = str(input(\"Digite o seu nome: \"))\n",
    "#idade = int(input(\"Digite a sua idade: \"))\n",
    "valor = input(\"Digite um número: \")\n",
    "\n",
    "#print(\"Olá\", \"Mundo\", sep=\"-\")\n",
    "valor = float(valor_float)\n",
    "print(\"Olá, \", valor)\n",
    "\n",
    "#print(\"Olá, \", nome)\n",
    "#print(\"sua idade é: \", idade)\n",
    "\n",
    "#print(\"Olá, \", nome,\" sua idade é: \", idade)"
   ]
  }
 ],
 "metadata": {
  "kernelspec": {
   "display_name": "Python 3.11.4 64-bit",
   "language": "python",
   "name": "python3"
  },
  "language_info": {
   "codemirror_mode": {
    "name": "ipython",
    "version": 3
   },
   "file_extension": ".py",
   "mimetype": "text/x-python",
   "name": "python",
   "nbconvert_exporter": "python",
   "pygments_lexer": "ipython3",
   "version": "3.11.4"
  },
  "vscode": {
   "interpreter": {
    "hash": "ec209ac929dcb624c7f6ee351ef0b875c32411e307f0e21a721e661affe60714"
   }
  }
 },
 "nbformat": 4,
 "nbformat_minor": 5
}
