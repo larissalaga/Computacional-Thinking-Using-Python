{
 "cells": [
  {
   "cell_type": "markdown",
   "metadata": {},
   "source": [
    "1. Manipulação de Dados e Estruturas de Dados\n",
    "2. Trabalhando com Strings e Operações Condicionais\n",
    "3. Controle de Fluxo e Arquivos"
   ]
  },
  {
   "cell_type": "markdown",
   "metadata": {},
   "source": [
    "## Exercício 1: Dicionários e Dados Mutáveis\n",
    "\n",
    "Problema: Dada uma lista de tuplas onde a primeira entrada de cada tupla é um nome de produto e a segunda é a quantidade vendida, escreva um programa que converta essa lista em um dicionário. Se o nome do produto já existir no dicionário, atualize sua quantidade somando a quantidade da tupla. No final, imprima o dicionário de produtos com suas quantidades totais.\n",
    "\n",
    "Exemplo de Entrada: [('maçã', 10), ('banana', 5), ('maçã', 20), ('laranja', 5)]\n",
    "\n",
    "Exemplo de Saída: {'maçã': 30, 'banana': 5, 'laranja': 5}"
   ]
  },
  {
   "cell_type": "code",
   "execution_count": 1,
   "metadata": {},
   "outputs": [
    {
     "name": "stdout",
     "output_type": "stream",
     "text": [
      "{'maçã': 30, 'banana': 5, 'laranja': 5}\n"
     ]
    }
   ],
   "source": [
    "# Sua resposta aqui\n",
    "\n",
    "def soma_itens(lista):\n",
    "    dict_itens = {}\n",
    "    for item, quantidade in lista:\n",
    "        if item in dict_itens:\n",
    "            dict_itens[item] += quantidade\n",
    "        else:\n",
    "            dict_itens[item] = quantidade\n",
    "    return dict_itens\n",
    "\n",
    "\n",
    "lista_frutas = [('maçã', 10), ('banana', 5), ('maçã', 20), ('laranja', 5)]\n",
    "print(soma_itens(lista_frutas))\n"
   ]
  },
  {
   "cell_type": "markdown",
   "metadata": {},
   "source": [
    "\n",
    "## Exercício 2: Fatiamento de Strings e Expressões Booleanas\n",
    "\n",
    "Problema: Escreva uma função que receba uma string e retorne True se a string for um palíndromo (ignorando espaços, pontuações e capitalização) e False caso contrário. Utilize fatiamento de strings e expressões booleanas para sua solução.\n",
    "\n",
    "Exemplo de Entrada: \"A man, a plan, a canal: Panama\"\n",
    "\n",
    "Exemplo de Saída: True\n",
    "\n",
    "\n",
    "OBS: Palíndromo é frase ou palavra que se pode ler, indiferentemente, da esquerda para direita ou vice-versa, por exemplo: osso, Ana, radar, Renner, Roma é amor, orava o avaro, socorram-me subi no ônibus em Marrocos"
   ]
  },
  {
   "cell_type": "code",
   "execution_count": 2,
   "metadata": {},
   "outputs": [
    {
     "name": "stdout",
     "output_type": "stream",
     "text": [
      "True\n"
     ]
    }
   ],
   "source": [
    "# Sua resposta aqui\n",
    "\n",
    "# fica facil se lembra que slice pode ser feito com [inicio:fim:passo]\n",
    "# e que se passo for negativo, ele vai de trás pra frente\n",
    "# então, se eu quero inverter uma string, posso fazer isso:\n",
    "# string[::-1]\n",
    "\n",
    "frase = \"A man, a plan, a canal: Panama\"\n",
    "\n",
    "pontuacao = [' ',':',',']\n",
    "\n",
    "for i in pontuacao:\n",
    "    frase = frase.replace(i,'')\n",
    "\n",
    "frase_limpa = frase.lower()\n",
    "\n",
    "\n",
    "print(frase_limpa == frase_limpa[::-1])\n",
    "\n"
   ]
  },
  {
   "cell_type": "markdown",
   "metadata": {},
   "source": [
    "## Exercício 4: break e continue\n",
    "\n",
    "Problema: Escreva um programa que itere sobre números de 1 a 100. \n",
    "\n",
    "Para cada número, se o número for divisível por 3, imprima \"Fizz\". \n",
    "\n",
    "Se for divisível por 5, imprima \"Buzz\". \n",
    "\n",
    "Se for divisível por ambos, imprima \"FizzBuzz\". \n",
    "\n",
    "Use break para terminar o loop se algum número divisível por 3 e 5 for maior que 50. \n",
    "\n",
    "Use continue para pular números ímpares.\n",
    "\n",
    "\n",
    "Exemplo de Saída: 2, 4, Fizz, 8, Buzz, Fizz, 14, 16, Fizz, Buzz, 22, Fizz, 26, 28, FizzBuzz, 32, 34, Fizz, 38, Buzz, Fizz, 44, 46, Fizz, Buzz, 52, Fizz, 56, 58"
   ]
  },
  {
   "cell_type": "code",
   "execution_count": null,
   "metadata": {},
   "outputs": [],
   "source": [
    "## Suas respostas aqui\n",
    "\n",
    "for i in range(1,101):\n",
    "    if i % 2 != 0:\n",
    "        continue\n",
    "    if i % 3 == 0 and i % 5 == 0:\n",
    "        if i > 50:\n",
    "            break \n",
    "        else:  \n",
    "            print(\"FizzBuzz\")\n",
    "    elif i % 3 == 0:\n",
    "        print(\"Fizz\")\n",
    "    elif i % 5 == 0:\n",
    "        print(\"Buzz\")\n",
    "    else:\n",
    "        print(i)\n"
   ]
  },
  {
   "cell_type": "markdown",
   "metadata": {},
   "source": [
    "## Exercício 5: Escrevendo em Arquivos\n",
    "\n",
    "Problema: Escreva um programa que gere um arquivo de log. Para cada segundo, o programa deve escrever a hora atual no arquivo de log até que 10 entradas sejam registradas. Use o módulo time para obter a hora atual e faça uma pausa de um segundo entre as entradas usando time.sleep(1).\n",
    "\n",
    "\n",
    "Exemplo de Saída no Arquivo de Log:\n",
    "```\n",
    "09-02-2024 12:00:01\n",
    "09-02-2024 12:00:02\n",
    "09-02-2024 12:00:03\n",
    "...\n",
    "```\n"
   ]
  },
  {
   "cell_type": "code",
   "execution_count": null,
   "metadata": {},
   "outputs": [],
   "source": [
    "# Sua resposta aqui\n",
    "\n",
    "'''\n",
    "https://docs.python.org/3/library/time.html ### leia a documentacao do time :)\n",
    "\n",
    "https://www.codecademy.com/resources/docs/python/time-module/strftime -- exemplo de uso\n",
    "\n",
    "o time.localtime() retorna o horario local.\n",
    "\n",
    "%d - dia do mês\n",
    "%m - mês\n",
    "%Y - ano\n",
    "%H - hora\n",
    "%M - minuto\n",
    "%S - segundo\n",
    "'''\n",
    "### para tesar o time, podemos fazer um loop que imprime o horario a cada segundo\n",
    "\n",
    "# import time\n",
    "\n",
    "# i=0\n",
    "# while i < 10:\n",
    "#     log = time.strftime(\"%d-%m-%Y %H:%M:%S\",time.localtime())\n",
    "#     time.sleep(1)\n",
    "#     i += 1\n",
    "#     print(log)\n",
    "\n",
    "\n",
    "## para escrever no arquivo\n",
    "import time\n",
    "\n",
    "with open(\"log.txt\", \"w\") as arquivo:\n",
    "    i=0\n",
    "    while i < 10:\n",
    "        log = time.strftime(\"%d-%m-%Y %H:%M:%S\",time.localtime())\n",
    "        arquivo.write(log + \"\\n\")\n",
    "        time.sleep(1)\n",
    "        i += 1\n",
    "    print('log salvo no arquivo log.txt')\n",
    "\n",
    "## para ler do arquivo\n",
    "with open(\"log.txt\", \"r\") as arquivo:\n",
    "    for linha in arquivo:\n",
    "        print(linha.strip())\n",
    "\n"
   ]
  },
  {
   "cell_type": "markdown",
   "metadata": {},
   "source": [
    "Escreva uma fução que recebe como parametro duas listas a e b de numeros inteiros. A função deve retornar uma lista contendo os números que são exclusivos para a lista a e para a lista b. Ou seja, a lista retornada não deve conter elementos que estejam presentes em ambas as listas a e b.\n",
    "\n",
    "```\n",
    "#entrada de dados\n",
    "a = [-3, 4, 10, 6, 3, 8, -4, -1]\n",
    "b = [3, 1, 2, -3, 9, 8, -1, -2]\n",
    "\n",
    "\n",
    "# saida esperada\n",
    "[4, 10, 6, -4, 1, 2, 9, -2]\n",
    "\n",
    "\n",
    "```\n"
   ]
  },
  {
   "cell_type": "code",
   "execution_count": 10,
   "metadata": {},
   "outputs": [
    {
     "name": "stdout",
     "output_type": "stream",
     "text": [
      "[4, 10, 6, -4, 1, 2, 9, -2]\n"
     ]
    }
   ],
   "source": [
    "# Sua resposta aqui\n",
    "\n",
    "a = [-3, 4, 10, 6, 3, 8, -4, -1]\n",
    "b = [3, 1, 2, -3, 9, 8, -1, -2]\n",
    "\n",
    "resultado = []\n",
    "for numero in a:\n",
    "    if numero not in b:\n",
    "        resultado.append(numero)\n",
    "        #print(numero)\n",
    "\n",
    "for numero in b:\n",
    "    if numero not in a:\n",
    "        resultado.append(numero)\n",
    "        #print(numero)\n",
    "\n",
    "print(resultado)\n"
   ]
  },
  {
   "cell_type": "markdown",
   "metadata": {},
   "source": [
    "Para o trecho de código abaixo, faça uma avaliação do código, essa avaliação deve ser realizada sem o uso de ferramentas computacionais. \n",
    "\n",
    "```\n",
    "def busca(valor, lista):\n",
    "    i = 0\n",
    "    while i < len(lista):\n",
    "        if lista[i] == valor:\n",
    "            return True\n",
    "        i = i + 1\n",
    "\n",
    "    return False\n",
    "\n",
    "def interseccao(listaA, listaB):\n",
    "    intersectado = []\n",
    "    for elemento in listaA:\n",
    "        if busca(elemento, listaB) == True:\n",
    "            intersectado.append(elemento)\n",
    "\n",
    "    return intersectado\n",
    "\n",
    "listA = [1, 6, 4, 8, 3]\n",
    "listB = [10, 8, 0, 3, 7]\n",
    "print(interseccao(listA, listB))\n",
    "\n",
    "```\n",
    "\n",
    "Qual a saida?\n",
    "\n",
    "resposta: [8,3]\n"
   ]
  }
 ],
 "metadata": {
  "kernelspec": {
   "display_name": "Python 3.11.4 64-bit",
   "language": "python",
   "name": "python3"
  },
  "language_info": {
   "codemirror_mode": {
    "name": "ipython",
    "version": 3
   },
   "file_extension": ".py",
   "mimetype": "text/x-python",
   "name": "python",
   "nbconvert_exporter": "python",
   "pygments_lexer": "ipython3",
   "version": "3.11.4"
  },
  "vscode": {
   "interpreter": {
    "hash": "ec209ac929dcb624c7f6ee351ef0b875c32411e307f0e21a721e661affe60714"
   }
  }
 },
 "nbformat": 4,
 "nbformat_minor": 2
}
