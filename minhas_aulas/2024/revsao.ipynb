{
 "cells": [
  {
   "attachments": {},
   "cell_type": "markdown",
   "metadata": {},
   "source": [
    "1. Manipulação de Dados e Estruturas de Dados\n",
    "2. Trabalhando com Strings e Operações Condicionais\n",
    "3. Controle de Fluxo e Arquivos"
   ]
  },
  {
   "attachments": {},
   "cell_type": "markdown",
   "metadata": {},
   "source": [
    "## Exercício 1: Dicionários e Dados Mutáveis\n",
    "\n",
    "Problema: Dada uma lista de tuplas onde a primeira entrada de cada tupla é um nome de produto e a segunda é a quantidade vendida, escreva um programa que converta essa lista em um dicionário. Se o nome do produto já existir no dicionário, atualize sua quantidade somando a quantidade da tupla. No final, imprima o dicionário de produtos com suas quantidades totais.\n",
    "\n",
    "Exemplo de Entrada: [('maçã', 10), ('banana', 5), ('maçã', 20), ('laranja', 5)]\n",
    "\n",
    "Exemplo de Saída: {'maçã': 30, 'banana': 5, 'laranja': 5}"
   ]
  },
  {
   "cell_type": "code",
   "execution_count": 10,
   "metadata": {},
   "outputs": [
    {
     "ename": "KeyError",
     "evalue": "'produto'",
     "output_type": "error",
     "traceback": [
      "\u001b[1;31m---------------------------------------------------------------------------\u001b[0m",
      "\u001b[1;31mKeyError\u001b[0m                                  Traceback (most recent call last)",
      "Cell \u001b[1;32mIn[10], line 12\u001b[0m\n\u001b[0;32m      9\u001b[0m     \u001b[39mreturn\u001b[39;00m (dicionarioProdutos)\n\u001b[0;32m     11\u001b[0m \u001b[39mwhile\u001b[39;00m \u001b[39mTrue\u001b[39;00m:\n\u001b[1;32m---> 12\u001b[0m     lista \u001b[39m=\u001b[39m itensTupla()\n\u001b[0;32m     13\u001b[0m     \u001b[39mprint\u001b[39m(lista)\n\u001b[0;32m     14\u001b[0m     prox \u001b[39m=\u001b[39m \u001b[39minput\u001b[39m(\u001b[39m\"\u001b[39m\u001b[39mdigite 1 para encerrar\u001b[39m\u001b[39m\"\u001b[39m)\n",
      "Cell \u001b[1;32mIn[10], line 8\u001b[0m, in \u001b[0;36mitensTupla\u001b[1;34m()\u001b[0m\n\u001b[0;32m      6\u001b[0m item2 \u001b[39m=\u001b[39m \u001b[39minput\u001b[39m(\u001b[39m\"\u001b[39m\u001b[39mInforme a quantidade de itens:\u001b[39m\u001b[39m\"\u001b[39m )\n\u001b[0;32m      7\u001b[0m lista1 \u001b[39m=\u001b[39m (item1, item2)\n\u001b[1;32m----> 8\u001b[0m dicionarioProdutos[\u001b[39m\"\u001b[39;49m\u001b[39mproduto\u001b[39;49m\u001b[39m\"\u001b[39;49m]\u001b[39m.\u001b[39mappend\u001b[39m=\u001b[39m lista1\n\u001b[0;32m      9\u001b[0m \u001b[39mreturn\u001b[39;00m (dicionarioProdutos)\n",
      "\u001b[1;31mKeyError\u001b[0m: 'produto'"
     ]
    }
   ],
   "source": [
    "# Sua resposta aqui\n",
    "\n",
    "dicionarioProdutos = {}\n",
    "def itensTupla():\n",
    "    item1 = input(\"Informe o nome do proudto\")\n",
    "    item2 = input(\"Informe a quantidade de itens:\" )\n",
    "    lista1 = (item1, item2)\n",
    "    dicionarioProdutos[\"produto\"].append= lista1\n",
    "    return (dicionarioProdutos)\n",
    "\n",
    "while True:\n",
    "    lista = itensTupla()\n",
    "    print(lista)\n",
    "    prox = input(\"digite 1 para encerrar\")\n",
    "    if prox == \"1\":\n",
    "        break\n",
    "    \n",
    "\n",
    "\n",
    "   "
   ]
  },
  {
   "cell_type": "code",
   "execution_count": null,
   "metadata": {},
   "outputs": [],
   "source": []
  },
  {
   "attachments": {},
   "cell_type": "markdown",
   "metadata": {},
   "source": [
    "\n",
    "## Exercício 2: Fatiamento de Strings e Expressões Booleanas\n",
    "\n",
    "Problema: Escreva uma função que receba uma string e retorne True se a string for um palíndromo (ignorando espaços, pontuações e capitalização) e False caso contrário. Utilize fatiamento de strings e expressões booleanas para sua solução.\n",
    "\n",
    "Exemplo de Entrada: \"A man, a plan, a canal: Panama\"\n",
    "\n",
    "Exemplo de Saída: True\n",
    "\n",
    "\n",
    "OBS: Palíndromo é frase ou palavra que se pode ler, indiferentemente, da esquerda para direita ou vice-versa, por exemplo: osso, Ana, radar, Renner, Roma é amor, orava o avaro, socorram-me subi no ônibus em Marrocos"
   ]
  },
  {
   "cell_type": "code",
   "execution_count": 14,
   "metadata": {},
   "outputs": [
    {
     "name": "stdout",
     "output_type": "stream",
     "text": [
      "\n",
      " a\n",
      "\n",
      " r\n",
      "\n",
      " a\n",
      "\n",
      " r\n",
      "arara\n"
     ]
    }
   ],
   "source": [
    "# Sua resposta aqui\n",
    "def palindromo():\n",
    "    texto = input(\"Digite o texto a ser verificado:\")\n",
    "    semEspaco = texto.replace(\" \",\"\")\n",
    "    tamanho = len(semEspaco)-1\n",
    "    for j in range(tamanho):\n",
    "        if semEspaco[j] == semEspaco[tamanho-j]:\n",
    "            print(f\"\\n {semEspaco[j]}\")\n",
    "            \n",
    "    return semEspaco\n",
    "resultado = palindromo()\n",
    "print(resultado)\n",
    "\n"
   ]
  },
  {
   "attachments": {},
   "cell_type": "markdown",
   "metadata": {},
   "source": [
    "## Exercício 4: break e continue\n",
    "\n",
    "Problema: Escreva um programa que itere sobre números de 1 a 100. Para cada número, se o número for divisível por 3, imprima \"Fizz\". Se for divisível por 5, imprima \"Buzz\". Se for divisível por ambos, imprima \"FizzBuzz\". Use break para terminar o loop se algum número divisível por 3 e 5 for maior que 50. Use continue para pular números ímpares.\n",
    "\n",
    "Exemplo de Saída: 1, 2, Fizz, 4, Buzz, Fizz, ..., Buzz, Fizz, 49, Buzz, FizzBuzz"
   ]
  },
  {
   "cell_type": "code",
   "execution_count": 106,
   "metadata": {},
   "outputs": [],
   "source": [
    "## Suas respostas aqui"
   ]
  },
  {
   "attachments": {},
   "cell_type": "markdown",
   "metadata": {},
   "source": [
    "## Exercício 5: Escrevendo em Arquivos\n",
    "\n",
    "Problema: Escreva um programa que gere um arquivo de log. Para cada segundo, o programa deve escrever a hora atual no arquivo de log até que 10 entradas sejam registradas. Use o módulo time para obter a hora atual e faça uma pausa de um segundo entre as entradas usando time.sleep(1).\n",
    "\n",
    "\n",
    "Exemplo de Saída no Arquivo de Log:\n",
    "```\n",
    "09-02-2024 12:00:01\n",
    "09-02-2024 12:00:02\n",
    "09-02-2024 12:00:03\n",
    "...\n",
    "```\n"
   ]
  },
  {
   "cell_type": "code",
   "execution_count": 107,
   "metadata": {},
   "outputs": [],
   "source": [
    "# Sua resposta aqui\n"
   ]
  },
  {
   "attachments": {},
   "cell_type": "markdown",
   "metadata": {},
   "source": [
    "Escreva uma fução que recebe como parametro duas listas a e b de numeros inteiros. A função deve retornar uma lista contendo os números que são exclusivos para a lista a e para a lista b. Ou seja, a lista retornada não deve conter elementos que estejam presentes em ambas as listas a e b.\n",
    "\n",
    "```\n",
    "#entrada de dados\n",
    "a = [-3, 4, 10, 6, 3, 8, -4, -1]\n",
    "b = [3, 1, 2, -3, 9, 8, -1, -2]\n",
    "\n",
    "\n",
    "# saida esperada\n",
    "[4, 10, 6, -4, 1, 2, 9, -2]\n",
    "\n",
    "\n",
    "```\n"
   ]
  },
  {
   "cell_type": "code",
   "execution_count": 108,
   "metadata": {},
   "outputs": [],
   "source": [
    "# Sua resposta aqui"
   ]
  },
  {
   "attachments": {},
   "cell_type": "markdown",
   "metadata": {},
   "source": [
    "Para o trecho de código abaixo, faça uma avaliação do código, essa avaliação deve ser realizada sem o uso de ferramentas computacionais. \n",
    "\n",
    "```\n",
    "def busca(valor, lista):\n",
    "    i = 0\n",
    "    while i < len(lista):\n",
    "        if lista[i] == valor:\n",
    "            return True\n",
    "        i = i + 1\n",
    "\n",
    "    return False\n",
    "\n",
    "def interseccao(listaA, listaB):\n",
    "    intersectado = []\n",
    "    for elemento in listaA:\n",
    "        if busca(elemento, listaB) == True:\n",
    "            intersectado.append(elemento)\n",
    "\n",
    "    return intersectado\n",
    "\n",
    "listA = [1, 6, 4, 8, 3]\n",
    "listB = [10, 8, 0, 3, 7]\n",
    "print(interseccao(listA, listB))\n",
    "\n",
    "```\n",
    "\n",
    "Qual a saida esperada?\n"
   ]
  }
 ],
 "metadata": {
  "kernelspec": {
   "display_name": "Python 3",
   "language": "python",
   "name": "python3"
  },
  "language_info": {
   "codemirror_mode": {
    "name": "ipython",
    "version": 3
   },
   "file_extension": ".py",
   "mimetype": "text/x-python",
   "name": "python",
   "nbconvert_exporter": "python",
   "pygments_lexer": "ipython3",
   "version": "3.11.4"
  }
 },
 "nbformat": 4,
 "nbformat_minor": 2
}
