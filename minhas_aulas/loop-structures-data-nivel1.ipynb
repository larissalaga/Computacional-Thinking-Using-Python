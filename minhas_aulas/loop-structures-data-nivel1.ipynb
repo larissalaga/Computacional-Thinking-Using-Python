{
 "cells": [
  {
   "cell_type": "markdown",
   "id": "1d4ac727",
   "metadata": {},
   "source": [
    "## Lista de Exercícios: Loops (`for` e `while`) e Estruturas de Dados (`lista` e `tupla`)\n",
    "\n",
    "Neste notebook, você encontrará exercícios para praticar conceitos relacionados a loops (`for` e `while`) e estruturas de dados (`lista` e `tupla`).\n",
    "\n",
    "\n",
    "### Dicas Importantes\n",
    "\n",
    "- **Não altere os nomes dos arquivos ou funções**: Isso pode fazer com que os testes automáticos falhem, mesmo que sua solução esteja correta.\n",
    "- **Leia os erros com atenção**: Eles podem fornecer dicas sobre o que está errado em seu código.\n",
    "- **Peça ajuda**: Se estiver tendo dificuldades, não hesite em pedir ajuda ao professor ou colegas.\n"
   ]
  },
  {
   "cell_type": "markdown",
   "id": "ee00e572",
   "metadata": {},
   "source": [
    "1. Escreva a função `primeiros_n_impares` que recebe como argumento `n` e retorna uma lista com os números ímpares usando um loop `for`.\n",
    "\n",
    "Exemplo: a função recebe `10` e retorna `[1, 3, 5, 7, 9]`"
   ]
  },
  {
   "cell_type": "code",
   "execution_count": 3,
   "id": "d02d0f0f",
   "metadata": {},
   "outputs": [
    {
     "name": "stdout",
     "output_type": "stream",
     "text": [
      "Os numeros ímpares do intervalo são: [1]\n"
     ]
    }
   ],
   "source": [
    "def primeiros_n_impares(n):\n",
    "  impares = []\n",
    "  for i in range(n):\n",
    "    if i % 2 != 0:\n",
    "      impares.append(i)\n",
    "  return impares\n",
    "n = int(input(\"Digite o intervalo: \"))\n",
    "print(f\"Os numeros ímpares do intervalo são: {primeiros_n_impares(n)}\")\n",
    "\n"
   ]
  },
  {
   "cell_type": "markdown",
   "id": "d3be7a0e",
   "metadata": {},
   "source": [
    "2. Escreva um programa que encontre o fatorial de um número \\( n \\) usando um loop `while`.\n",
    "\n",
    "Escreva a função `fatorial` que recebe um parametro `n` e retorna o valor do fatorial.\n"
   ]
  },
  {
   "cell_type": "code",
   "execution_count": 12,
   "id": "af0ccc64",
   "metadata": {},
   "outputs": [
    {
     "name": "stdout",
     "output_type": "stream",
     "text": [
      "3! = 6\n"
     ]
    }
   ],
   "source": [
    "def fatorial(n):\n",
    "  i = 1\n",
    "  resultado = 1\n",
    "  while i <= n:\n",
    "    resultado *= i\n",
    "    i += 1    \n",
    "  return resultado\n",
    "\n",
    "\n",
    "n = int(input(\"Digite o número a ser fatorado: \"))\n",
    "print(f\"{n}! = {fatorial(n)}\")"
   ]
  },
  {
   "cell_type": "markdown",
   "id": "6a56d59c",
   "metadata": {},
   "source": [
    "3. `FizzBuzz` é uma brincadeira matemática e de programação muito comum em entrevistas de emprego para programadores. \n",
    " \n",
    "A ideia básica do jogo é contar de 1 a 100, e quando um número é múltiplo de 3, em vez de dizer o número, deve-se dizer `Fizz`. Se um número é múltiplo de 5, deve-se dizer `Buzz`. Se o número é múltiplo tanto de 3 como de 5, deve-se dizer `FizzBuzz`.\n",
    "\n",
    "Por exemplo, os primeiros números da sequência seriam:\n",
    "\n",
    "    1, 2, Fizz, 4, Buzz, Fizz, 7, 8, Fizz, Buzz, 11, Fizz, 13, 14, FizzBuzz, 16, ... \n",
    "\n",
    "\n",
    "Você deve escrever a função `fizz_buzz` que não recebe parametro e que retorna uma lista com o resultado do jogo. Use um laço for."
   ]
  },
  {
   "cell_type": "code",
   "execution_count": null,
   "id": "e8c4a0b2",
   "metadata": {},
   "outputs": [
    {
     "name": "stdout",
     "output_type": "stream",
     "text": [
      "[1, 2, 'Fizz', 4, 'Buzz', 'Fizz', 7, 8, 'Fizz', 'Buzz', 11, 'Fizz', 13, 14, 'FizzBuzz', 16, 17, 'Fizz', 19, 'Buzz', 'Fizz', 22, 23, 'Fizz', 'Buzz', 26, 'Fizz', 28, 29, 'FizzBuzz', 31, 32, 'Fizz', 34, 'Buzz', 'Fizz', 37, 38, 'Fizz', 'Buzz', 41, 'Fizz', 43, 44, 'FizzBuzz', 46, 47, 'Fizz', 49, 'Buzz', 'Fizz', 52, 53, 'Fizz', 'Buzz', 56, 'Fizz', 58, 59, 'FizzBuzz', 61, 62, 'Fizz', 64, 'Buzz', 'Fizz', 67, 68, 'Fizz', 'Buzz', 71, 'Fizz', 73, 74, 'FizzBuzz', 76, 77, 'Fizz', 79, 'Buzz', 'Fizz', 82, 83, 'Fizz', 'Buzz', 86, 'Fizz', 88, 89, 'FizzBuzz', 91, 92, 'Fizz', 94, 'Buzz', 'Fizz', 97, 98, 'Fizz', 'Buzz']\n"
     ]
    }
   ],
   "source": [
    "#sequencia = [\"Fizz\" for i in range(100) if (i+1) % 3 == 0]\n",
    "def fizz_buzz():\n",
    "  resultado = []\n",
    "  for i in range(100):\n",
    "    if ((i + 1) % 3 == 0) and ((i + 1) % 5 == 0): \n",
    "      resultado.append(\"FizzBuzz\")      \n",
    "    elif ((i + 1) % 3 == 0):\n",
    "        resultado.append(\"Fizz\")\n",
    "    elif ((i + 1) % 5 == 0):\n",
    "      resultado.append(\"Buzz\")\n",
    "    else:\n",
    "      resultado.append(i+1)\n",
    "  return(resultado)\n",
    "  \n",
    "print(fizz_buzz())\n"
   ]
  },
  {
   "cell_type": "markdown",
   "id": "8e16091f",
   "metadata": {},
   "source": [
    "4. Crie uma lista contendo os primeiros \\( n \\) números pares e imprima-a.\n",
    "\n",
    "A função deve ter o nome `dobra_n_eventos` recebe um numero `n` e retorna com o dobro dos numeros pares.\n",
    "\n",
    "Exemplo:\n",
    "\n",
    "- se `n` for 10, retorna uma lista com 2, 4, 6, 8, 10, 12, 14, 16, 18, 20.\n",
    "- se `n` for 5, retorna uma lista com 2, 4, 6, 8, 10."
   ]
  },
  {
   "cell_type": "code",
   "execution_count": null,
   "id": "667854dd",
   "metadata": {},
   "outputs": [
    {
     "name": "stdout",
     "output_type": "stream",
     "text": [
      "[2, 4, 6, 8, 10, 12, 14, 16, 18, 20]\n"
     ]
    }
   ],
   "source": [
    "#quadrados = [(x+1)*2 for x in range(5)]\n",
    "#print(quadrados)\n",
    "def dobra_n_eventos(n):\n",
    "  dobro = [(i+1)*2 for i in range(n)]\n",
    "  return dobro\n",
    "\n",
    "n = int(input(\"Digite o número: \"))\n",
    "print(dobra_n_eventos(n))"
   ]
  },
  {
   "cell_type": "markdown",
   "id": "42ca6e37",
   "metadata": {},
   "source": [
    "5. Dada uma tupla `t` contendo números, escreva a função `soma_e_media` para calcular a soma e a média desses números.\n",
    "\n",
    "A função `soma_e_media` recebe como argumento uma tupla de numeros e retorna uma tupla com os argumentos (soma, media).\n",
    "\n",
    "Exemplo:\n",
    "\n",
    "- se `t` for (10,2,3,4), retorna a tupla (19,4.75)\n",
    "- se `t` for (1,1,1,2,2,2), retorna a tupla (9,1.5)"
   ]
  },
  {
   "cell_type": "code",
   "execution_count": 3,
   "id": "d0dae500",
   "metadata": {},
   "outputs": [
    {
     "name": "stdout",
     "output_type": "stream",
     "text": [
      "(19, 4.75)\n"
     ]
    }
   ],
   "source": [
    "def soma_e_media(t):\n",
    "  resultado = 0\n",
    "  if len(t) > 0:\n",
    "    resultado = (sum(t), (sum(t)/len(t)))\n",
    "  return resultado\n",
    "  \n",
    "n = int(input(\"Informe o tamanho da tupla: \"))\n",
    "lista = [int(input(\"\\nNúmero:\"))for i in range(n)]\n",
    "t = tuple(lista)\n",
    "print(soma_e_media(t))"
   ]
  },
  {
   "cell_type": "markdown",
   "id": "b1d1022b",
   "metadata": {},
   "source": [
    "6. Escreva um programa que remova todos os números ímpares de uma lista dada.\n",
    "\n",
    "A função remove_impaar recebe uma lista e devolve uma lista."
   ]
  },
  {
   "cell_type": "code",
   "execution_count": null,
   "id": "838a06b5",
   "metadata": {},
   "outputs": [
    {
     "name": "stdout",
     "output_type": "stream",
     "text": [
      "[2, 4]\n"
     ]
    }
   ],
   "source": [
    "#def remove_impar(lista):\n",
    "  #sem_impar = [lista]\n",
    "  #for i in range (len(lista)):\n",
    "   # if lista[i] % 2 != 0:\n",
    "    #  sem_impar.pop(i)\n",
    "  #return sem_impar\n",
    "def remove_impar(lista):\n",
    "  sem_impar = []\n",
    "  #sem_impar = lista\n",
    "  for i in range(len(lista)):\n",
    "    if (lista[i] % 2 == 0):\n",
    "      #sem_impar.pop([i])\n",
    "      sem_impar.append(lista[i])\n",
    "  return sem_impar\n",
    "\n",
    "\n",
    "x = int(input(\"Informe o tamanho da lista: \"))\n",
    "lista = [int(input(\"\\nNúmero:\"))for i in range(x)]\n",
    "print(remove_impar(lista))\n",
    "\n"
   ]
  },
  {
   "cell_type": "markdown",
   "id": "695047fb",
   "metadata": {},
   "source": [
    "\n",
    "7. A função `fibonacci` recebe um numero inteiro e retorna uma lista com os números da sequência Fibonacci até n. Use um loop `for`.\n",
    "\n",
    "A sequencia de fibonacci é uma sequencia numérica onde o proximo numero é a soma do atual com o anterior. como no exemplo:\n",
    "\n",
    "0, 1, 1, 2, 3, 5, 8... o próximo numero será 8+5=13\n"
   ]
  },
  {
   "cell_type": "code",
   "execution_count": 14,
   "id": "579a13e3",
   "metadata": {},
   "outputs": [
    {
     "name": "stdout",
     "output_type": "stream",
     "text": [
      "[0, 1, 1, 2, 3, 5, 8, 13, 21, 34, 55, 89, 144, 233, 377, 610, 987, 1597, 2584, 4181, 6765, 10946, 17711, 28657, 46368, 75025, 121393, 196418, 317811, 514229]\n"
     ]
    }
   ],
   "source": [
    "## sua solução aqui...while atividade:\n",
    "def fibonacci(n):\n",
    "   sequencia_fibonacci = []\n",
    "   for i in range(n):\n",
    "      if i == 0 or i == 1:\n",
    "         sequencia_fibonacci.append(i)\n",
    "      else:\n",
    "         soma_fibonacci = sequencia_fibonacci[i-1] + sequencia_fibonacci[i-2]\n",
    "         sequencia_fibonacci.append(soma_fibonacci)\n",
    "   return sequencia_fibonacci\n",
    "         \n",
    "n = int(input(\"Insira um número: \"))\n",
    "print(fibonacci(n))\n"
   ]
  },
  {
   "cell_type": "markdown",
   "id": "0fd63b34",
   "metadata": {},
   "source": [
    "8. Escreva uma função `max_e_index` que, recebe uma lista de números, encontra o maior número usando um loop `while` e o armazena em uma tupla junto com seu índice na lista original para retorno da função.\n",
    "\n",
    "Exemplo:\n",
    "\n",
    "- se a lista recebida pela função for [3,4,5,2,7,9,4,1,1,1,4,0,], a função retorna a tupla (9,5)"
   ]
  },
  {
   "cell_type": "code",
   "execution_count": 20,
   "id": "85791d7e",
   "metadata": {},
   "outputs": [
    {
     "name": "stdout",
     "output_type": "stream",
     "text": [
      "(9, 5)\n"
     ]
    }
   ],
   "source": [
    "## sua solução aqui...\n",
    "def max_e_index(lista_numeros):\n",
    "  i = 0\n",
    "  maior_numero = 0\n",
    "  posicao = 0\n",
    "  while i < len(lista_numeros):\n",
    "    if lista_numeros[i] > maior_numero:\n",
    "      maior_numero = lista_numeros[i]\n",
    "      posicao = i\n",
    "    i += 1\n",
    "  tupla_maior = (maior_numero, posicao)\n",
    "  return tupla_maior\n",
    "\n",
    "x = int(input(\"Informe o tamanho da lista: \"))\n",
    "lista_numeros = [int(input(\"\\nNúmero:\"))for i in range(x)]\n",
    "print(max_e_index(lista_numeros))\n",
    "  "
   ]
  },
  {
   "cell_type": "markdown",
   "id": "d613b01f",
   "metadata": {},
   "source": [
    "9. Utilizando um loop `for` para percorrer uma lista de palavras e armazenar em uma nova lista todas as palavras que possuem mais de 5 letras. No final, converta essa lista em uma tupla como retorno da função. a função deve se chamar `palavras_grandes`\n",
    "\n",
    "\n",
    "Por exemplo:\n",
    "\n",
    "se a lista de entrada for `[\"olha\",\"o\",\"pensamento\",\"computacional\",\"python\",\"oi\"]` então a saida deve ser `('pensamento', 'computacional', 'python')`"
   ]
  },
  {
   "cell_type": "code",
   "execution_count": 2,
   "id": "4fd9ec09",
   "metadata": {},
   "outputs": [
    {
     "name": "stdout",
     "output_type": "stream",
     "text": [
      "('ewoquri',)\n"
     ]
    }
   ],
   "source": [
    "## sua solução aqui...\n",
    "def palavras_grandes(lista_palavras):\n",
    "  lista_grandes = []\n",
    "  for i in range(len(lista_palavras)):\n",
    "    if len(lista_palavras[i]) > 5:\n",
    "      lista_grandes.append(lista_palavras[i])\n",
    "  return tuple(lista_grandes)\n",
    "\n",
    "x = int(input(\"Informe o tamanho da lista: \"))\n",
    "lista_palavras = [input(\"\\nPalavra:\")for i in range(x)]\n",
    "print(palavras_grandes(lista_palavras))\n"
   ]
  },
  {
   "cell_type": "markdown",
   "id": "9ba5cc2c",
   "metadata": {},
   "source": [
    "10. Foram anotadas as idades e alturas de alunos em lista de tuplas com a segunte estrutura `[(idade1,altura1),(idade2,altura2),...]`. Faça a função `estudantes` que recebe a lista de estudantes e determina quantos alunos com mais de 13 anos possuem altura inferior à média de altura desses alunos.\n",
    "\n",
    "Por exemplo:\n",
    "\n",
    "Se receber `[(14, 160), (15, 165), (16, 170)]` então retorna `1`."
   ]
  },
  {
   "cell_type": "code",
   "execution_count": 33,
   "id": "a1637e0e",
   "metadata": {},
   "outputs": [
    {
     "name": "stdout",
     "output_type": "stream",
     "text": [
      "1\n"
     ]
    }
   ],
   "source": [
    "## sua solução aqui...\n",
    "def estudantes(lista_alunos):\n",
    "  if len(lista_alunos) == 0:\n",
    "    return 0\n",
    "  so_altura = list(zip(*lista_alunos))[1]\n",
    "  media = sum(so_altura)/len(lista_alunos)\n",
    "  quantidade = 0\n",
    "  for i in range(len(lista_alunos)):\n",
    "    if (lista_alunos[i][0] > 13) and (lista_alunos[i][1] < media):\n",
    "      quantidade +=1\n",
    "  return quantidade\n",
    "\n",
    "def input_idade_altura():\n",
    "  tupla_idade_altura = ()\n",
    "  idade = float(input(\"Informe a idade: \"))\n",
    "  altura = float(input(\"Informe a altura: \"))\n",
    "  return (idade, altura)\n",
    "\n",
    "lista_alunos = []\n",
    "x = int(input(\"Informe a quantidade de estudante: \"))\n",
    "[lista_alunos.append(input_idade_altura()) for i in range(x)]\n",
    "print(estudantes(lista_alunos))"
   ]
  },
  {
   "cell_type": "markdown",
   "id": "7f484e34",
   "metadata": {},
   "source": [
    "12. Problema de Estatísticas de Consumo de Carro\n",
    "\n",
    "Escreva uma função chamada `estatisticas_carros` que será responsável por fornecer informações sobre o consumo de combustível de diferentes modelos de carros.\n",
    "\n",
    "Entradas:\n",
    "\n",
    "A função deve receber duas listas de mesmo tamanho:\n",
    "\n",
    "`modelos`: Uma lista de strings, onde cada string representa o nome de um modelo de carro.\n",
    "`consumo`: Uma lista de números (floats ou inteiros) que representam o consumo em km por litro de cada carro. O i-ésimo elemento desta lista corresponde ao i-ésimo elemento da lista modelos.\n",
    "\n",
    "Saídas:\n",
    "\n",
    "A função deve retornar uma string representando o modelo do carro mais econômico.\n",
    "\n",
    "Exemplo:\n",
    "\n",
    "Suponha que temos os seguintes modelos e consumos:\n",
    "\n",
    "```python\n",
    "modelos = [\"Fusca\", \"Gol\"]\n",
    "consumos = [8, 10]\n",
    "```\n",
    "a função retorna `Gol`"
   ]
  },
  {
   "cell_type": "code",
   "execution_count": 52,
   "id": "92a48410",
   "metadata": {},
   "outputs": [
    {
     "name": "stdout",
     "output_type": "stream",
     "text": [
      "tesla\n"
     ]
    }
   ],
   "source": [
    "## sua solução aqui...\n",
    "def estatisticas_carros(marcas, consumo):\n",
    "  mais_economico = \"\"\n",
    "  menor_consumo = 0\n",
    "  for i in range(len(consumo)):\n",
    "    if consumo[i] > menor_consumo:\n",
    "      mais_economico = marcas[i]\n",
    "      menor_consumo =consumo[i]\n",
    "  return mais_economico\n",
    "\n",
    "x = int(input(\"Informe a quantidade de carros: \"))\n",
    "marcas = []\n",
    "consumo = []\n",
    "for i in range(x):\n",
    "  marcas.append((input(\"Informe a marca do carro: \")))\n",
    "  consumo.append(float(input(\"Informe o consumo: \")))\n",
    "\n",
    "print(estatisticas_carros(marcas,consumo))\n",
    "\n"
   ]
  },
  {
   "cell_type": "markdown",
   "id": "d3032dd4",
   "metadata": {},
   "source": [
    "13. Resolva usando for: Faça uma função `fracao` que calcule e retorne o valor de\n",
    "\n",
    "$$\n",
    "  S= \\frac{1}{1}+\\frac{3}{2}+\\frac{5}{3}+\\frac{7}{4}+\\frac{9}{5}+...+\\frac{99}{50}\n",
    "$$"
   ]
  },
  {
   "cell_type": "code",
   "execution_count": 7,
   "id": "4fe8fd2b",
   "metadata": {},
   "outputs": [
    {
     "name": "stdout",
     "output_type": "stream",
     "text": [
      "95.5007946616706\n"
     ]
    }
   ],
   "source": [
    "## sua solução aqui...\n",
    "def fracao():\n",
    "  s = 0.0\n",
    "  for i in range(50):\n",
    "    s += ((i+(i+1)))/(i+1)\n",
    "  return s\n",
    "print(fracao())"
   ]
  },
  {
   "cell_type": "markdown",
   "id": "b4e32d95",
   "metadata": {},
   "source": [
    "14. Resolva usando for: Faça uma função `fracao2` que calcule e retorne o valor de\n",
    "\n",
    "$$\n",
    "  S= \\frac{1}{1}+\\frac{2}{4}+\\frac{3}{9}+\\frac{4}{16}+...+\\frac{10}{100}\n",
    "$$"
   ]
  },
  {
   "cell_type": "code",
   "execution_count": 8,
   "id": "b4d34521",
   "metadata": {},
   "outputs": [
    {
     "name": "stdout",
     "output_type": "stream",
     "text": [
      "2.9289682539682538\n"
     ]
    }
   ],
   "source": [
    "## sua solução aqui...\n",
    "def fracao2():\n",
    "  s = 0.0\n",
    "  for i in range(10):\n",
    "    s += ((i+1)/(i+1)**2)\n",
    "  return s\n",
    "print(fracao2())\n"
   ]
  },
  {
   "cell_type": "markdown",
   "id": "d49a9804",
   "metadata": {},
   "source": [
    "15. Faça uma função `fracao3` que calcule a seguinte soma:\n",
    "\n",
    "$$\n",
    "  S= \\frac{10}{1!}-\\frac{9}{2!}+\\frac{8}{3!}-\\frac{7}{4!}+...-\\frac{1}{10!}\n",
    "$$"
   ]
  },
  {
   "cell_type": "code",
   "execution_count": 16,
   "id": "e351eb10",
   "metadata": {},
   "outputs": [
    {
     "name": "stdout",
     "output_type": "stream",
     "text": [
      "6.58544670414462\n"
     ]
    }
   ],
   "source": [
    "## sua solução aqui...\n",
    "def fracao3():\n",
    "  s = 0.0\n",
    "  for i in range(10):\n",
    "    if i % 2 == 0:\n",
    "      s += ((10-i)/(fatorial(i+1)))\n",
    "    else:\n",
    "      s -= ((10-i)/(fatorial(i+1)))\n",
    "\n",
    "  return s\n",
    "print(fracao3())\n"
   ]
  }
 ],
 "metadata": {
  "kernelspec": {
   "display_name": "Python 3.11.4 64-bit",
   "language": "python",
   "name": "python3"
  },
  "language_info": {
   "codemirror_mode": {
    "name": "ipython",
    "version": 3
   },
   "file_extension": ".py",
   "mimetype": "text/x-python",
   "name": "python",
   "nbconvert_exporter": "python",
   "pygments_lexer": "ipython3",
   "version": "3.11.4"
  },
  "vscode": {
   "interpreter": {
    "hash": "ec209ac929dcb624c7f6ee351ef0b875c32411e307f0e21a721e661affe60714"
   }
  }
 },
 "nbformat": 4,
 "nbformat_minor": 5
}
